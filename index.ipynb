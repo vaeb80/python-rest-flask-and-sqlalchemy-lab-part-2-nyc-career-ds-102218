{
 "cells": [
  {
   "cell_type": "markdown",
   "metadata": {},
   "source": [
    "# Flask and Flask-SQLAlchemy Lab Part 2"
   ]
  },
  {
   "cell_type": "markdown",
   "metadata": {},
   "source": [
    "## Introduction\n",
    "In this lab we are going to practice working with creating a RESTful web app that returns HTML about Tweets and Users. In this domain Users will have many Tweets and Tweets will, therefore, belong to a User. We already have our app's database set up. We will create HTML templates to render views for all of our user and tweet information stored in the database. We will query the database for the proper information, depending upon the URL, to pass onto the templates for HTML rendering. Let's get started!"
   ]
  },
  {
   "cell_type": "markdown",
   "metadata": {},
   "source": [
    "## Objectives\n",
    "* Create templates that display data for individual and collections of users and tweets\n",
    "* Define RESTful Routes that return HTML for Users\n",
    "* Define RESTful Routes that return HTML for Tweets\n",
    "* **Bonus:** Define RESTful Routes that return HTML for related resources"
   ]
  },
  {
   "cell_type": "markdown",
   "metadata": {},
   "source": [
    "The configuration for our app will be exactly the same as that from the previous lab when we created the API. All of this configuration code has been provided for us in the app.py file. Note that our models and seed data are also exactly the same.\n",
    "\n",
    "> **Note:** remember to seed your database by running `python seed.py` from your terminal so that your database will be populated with the necessary tables and some pre-populated data."
   ]
  },
  {
   "cell_type": "markdown",
   "metadata": {},
   "source": [
    "## Defining RESTful Routes for User Data"
   ]
  },
  {
   "cell_type": "markdown",
   "metadata": {},
   "source": [
    " Our routes for our User resource should follow REST convention and return HTML for:\n",
    " * A list of all user objects\n",
    " * A single user object whose `id` matches the id in the URL\n",
    " * A list of users with a whose `username` contains the string in the URL"
   ]
  },
  {
   "cell_type": "markdown",
   "metadata": {},
   "source": [
    "## Defining RESTful Routes for Tweet Data"
   ]
  },
  {
   "cell_type": "markdown",
   "metadata": {},
   "source": [
    "Our routes for our Tweet resource should follow REST convention and return HTML for:\n",
    "* A list of all tweet objects\n",
    "* A single tweet object that has the same `id` as the id in the URL"
   ]
  },
  {
   "cell_type": "markdown",
   "metadata": {},
   "source": [
    "## Create Templates"
   ]
  },
  {
   "cell_type": "markdown",
   "metadata": {},
   "source": [
    "Given the above routes, we will need to create four (4) HTML templates. In our templates directory, we have four files named, tweets.py, tweet_show.py, users.py, and user_show.py. The files with the pluralized resource name will be our templates for a collection of the given resource and the files named `[resource]_show` will be for a single object of the given resource. "
   ]
  },
  {
   "cell_type": "markdown",
   "metadata": {},
   "source": [
    "### Multiple Users:\n",
    "When multiple users are requested, the format should be an ordered list with each list item containing an `h3` tag showing the user's `username`, an `h4` tag showing the user's `id`, and another `h4` tag showing the number of `tweets` that user has tweeted.\n",
    "\n",
    "**example:**\n",
    "\n",
    "<ol>\n",
    "    <li>\n",
    "        <h3>Username: \"USERNAME\"</h3>\n",
    "        <h4>ID: \"ID\"</h4>\n",
    "        <h4>Tweet Count: \"NUMBER OF TWEETS FROM USER\"</h4>\n",
    "    </li>\n",
    "    <li>\n",
    "        <h3>Username: \"USERNAME\"</h3>\n",
    "        <h4>ID: \"ID\"</h4>\n",
    "        <h4>Tweet Count: \"NUMBER OF TWEETS FROM USER\"</h4>\n",
    "    </li>\n",
    "</ol>\n"
   ]
  },
  {
   "cell_type": "markdown",
   "metadata": {},
   "source": [
    "### Single User:\n",
    "A single user's page should have an `h3` tag for their `username`, a `p` tag for their `id`, an `h4` tag that has the text \"Tweets:\" followed by an unordered list containing all of the user's tweets each list item showing the tweet's `user_id` and content, which is a tweet's `text`.\n",
    "\n",
    "**example:**\n",
    "\n",
    "<h3>Username: \"USERNAME\"</h3>\n",
    "<p>ID: \"ID\"</p>\n",
    "<h4>Tweets:</h4>\n",
    "<ul>\n",
    "    <li>\n",
    "        <p>User ID: \"TWEET USER_ID\"</p> \n",
    "        <p>Content: \"TWEET CONTENT\"</p>\n",
    "    </li>\n",
    "</ul>"
   ]
  },
  {
   "cell_type": "markdown",
   "metadata": {},
   "source": [
    "### Multiple Tweets:\n",
    "When multiple tweet's are requested the page should have an unordered list showing each tweet. Each list item should have an `h4` tag for the tweet's author (or the username of the user who wrote the tweet), and a `p` tag for its content or `text`.\n",
    "\n",
    "**example:**\n",
    "\n",
    "<ul>\n",
    "    <li>\n",
    "        <h4>Author: \"TWEET'S AUTHOR'S USERNAME\"</h4> \n",
    "        <p>Content: \"TWEET CONTENT\"</p>\n",
    "    </li>\n",
    "    <li>\n",
    "        <h4>Author: \"TWEET'S AUTHOR'S USERNAME\"</h4> \n",
    "        <p>Content: \"TWEET CONTENT\"</p>\n",
    "    </li>\n",
    "</ul>"
   ]
  },
  {
   "cell_type": "markdown",
   "metadata": {},
   "source": [
    "### Single Tweet:\n",
    "A single tweet's page should have an `h4` tag for its author (or the username of the user who wrote the tweet), and a `p` tag for its content or `text`, and another `p` tag showing the tweet's `user_id`.\n",
    "\n",
    "**example:**\n",
    "\n",
    "<h4>Author: \"TWEET'S AUTHOR'S USERNAME</h4>\n",
    "<p>Content: \"TWEET CONTENT\"</p>\n",
    "<p>User ID: \"TWEET USER_ID\"</p>"
   ]
  },
  {
   "cell_type": "markdown",
   "metadata": {},
   "source": [
    "## BONUS:"
   ]
  },
  {
   "cell_type": "markdown",
   "metadata": {},
   "source": [
    "## Defining Nested RESTful Routes that Display Related Resources"
   ]
  },
  {
   "cell_type": "markdown",
   "metadata": {},
   "source": [
    "Since we are dealing with a has many / belongs to relationship we will want to define routes that return an HTML template that displays the data for the requested related resource(s). We will want routes that, again follow the REST convention and return an HTML template for:\n",
    "* Tweets that belong to a user by `user_id`\n",
    "* Tweets that belong to a user by a user's `name`   \n",
    "* A single User that is associated to a tweet by its `id` "
   ]
  },
  {
   "cell_type": "markdown",
   "metadata": {},
   "source": [
    "## Summary"
   ]
  },
  {
   "cell_type": "markdown",
   "metadata": {},
   "source": [
    "In this lab, we practiced creating HTML templates for our different views. We queried our database to extract the necessary resources to pass along to our templates, which then rendered our web pages in the correct HTML format. We used the REST convention to create common sense routes that describe the application and what information the page ought to display based upon what the client requested in the URL. Finally, as a bonus, we used nested RESTful routes to display a resource's related resources (i.e. a particular user's tweets)."
   ]
  }
 ],
 "metadata": {
  "kernelspec": {
   "display_name": "Python 3",
   "language": "python",
   "name": "python3"
  },
  "language_info": {
   "codemirror_mode": {
    "name": "ipython",
    "version": 3
   },
   "file_extension": ".py",
   "mimetype": "text/x-python",
   "name": "python",
   "nbconvert_exporter": "python",
   "pygments_lexer": "ipython3",
   "version": "3.6.6"
  }
 },
 "nbformat": 4,
 "nbformat_minor": 2
}
